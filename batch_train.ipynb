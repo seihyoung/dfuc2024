{
 "cells": [
  {
   "cell_type": "markdown",
   "id": "c89528bf-f4d5-45e4-babf-a4200b732c18",
   "metadata": {},
   "source": [
    "# Select GPU if needed"
   ]
  },
  {
   "cell_type": "code",
   "execution_count": 1,
   "id": "7f3dd6b7-d6c9-4fb4-90ff-9c905f628f80",
   "metadata": {},
   "outputs": [],
   "source": [
    "import os\n",
    "gpu_number = 0\n",
    "os.environ['CUDA_DEVICE_ORDER'] = 'PCI_BUS_ID'\n",
    "os.environ['CUDA_VISIBLE_DEVICES'] = str(gpu_number)"
   ]
  },
  {
   "cell_type": "markdown",
   "id": "772548bb-7234-4767-b0d5-97f5e59e560b",
   "metadata": {},
   "source": [
    "# Import modules"
   ]
  },
  {
   "cell_type": "code",
   "execution_count": 2,
   "id": "a9533ac4-4e5a-4602-9f57-c12a0a33958d",
   "metadata": {},
   "outputs": [],
   "source": [
    "from tools.batch_train import batch_train\n",
    "from model import get_dino_models"
   ]
  },
  {
   "cell_type": "markdown",
   "id": "621ca8b7-8eec-4337-9bb2-45c502457bd5",
   "metadata": {},
   "source": [
    "# Check dino_models"
   ]
  },
  {
   "cell_type": "code",
   "execution_count": 3,
   "id": "57e68c45-8034-46e0-82d0-3924dd800629",
   "metadata": {},
   "outputs": [
    {
     "name": "stdout",
     "output_type": "stream",
     "text": [
      "dino_model : {name, embedding_size, patch_size}\n",
      "-----------------------------------------------\n",
      "dinov2_s: {'name': 'dinov2_vits14', 'embedding_size': 384, 'patch_size': 14}\n",
      "dinov2_b: {'name': 'dinov2_vitb14', 'embedding_size': 768, 'patch_size': 14}\n",
      "dinov2_l: {'name': 'dinov2_vitl14', 'embedding_size': 1024, 'patch_size': 14}\n",
      "dinov2_g: {'name': 'dinov2_vitg14', 'embedding_size': 1536, 'patch_size': 14}\n"
     ]
    }
   ],
   "source": [
    "get_dino_models()"
   ]
  },
  {
   "cell_type": "markdown",
   "id": "46562ac6-5e19-4b68-a1d4-792d5b9f884a",
   "metadata": {},
   "source": [
    "# Set parameters"
   ]
  },
  {
   "cell_type": "code",
   "execution_count": 4,
   "id": "a01c291f-6c7d-4ed7-97e0-c42e43029116",
   "metadata": {},
   "outputs": [],
   "source": [
    "# path train_dir/image and train_dir/mask must be existed\n",
    "# path valid_dir/image and valid_dir/mask must be existed\n",
    "# path test_dir/image must be existed\n",
    "train_dir = 'data/test/train'\n",
    "valid_dir = 'data/test/valid'\n",
    "test_dir  = 'data/test/test'  # test_dir images are used to make predicted masks\n",
    "out_dir   = 'results'         # default is 'outputs'"
   ]
  },
  {
   "cell_type": "markdown",
   "id": "5a17bd5b-21e8-40a8-82be-1ed2f1ab4554",
   "metadata": {},
   "source": [
    "# Train parameters"
   ]
  },
  {
   "cell_type": "code",
   "execution_count": 5,
   "id": "237cc033-ecab-4ef5-8bb9-6f8e66956b49",
   "metadata": {},
   "outputs": [],
   "source": [
    "dino_models = ['dinov2_s'] # dino_model array\n",
    "batchs = [16] # batch array\n",
    "epochs = 100  # integer"
   ]
  },
  {
   "cell_type": "markdown",
   "id": "0601dc1c-1294-4f16-80e8-a12aee07a5d6",
   "metadata": {},
   "source": [
    "# Batch train"
   ]
  },
  {
   "cell_type": "code",
   "execution_count": null,
   "id": "a76c05be-dce4-4725-a2fb-24fa9002eb9c",
   "metadata": {},
   "outputs": [],
   "source": [
    "batch_train(train_dir, valid_dir, test_dir, out_dir, dino_models=dino_models, batchs=batchs, epochs=epochs)"
   ]
  }
 ],
 "metadata": {
  "kernelspec": {
   "display_name": "Python 3 (ipykernel)",
   "language": "python",
   "name": "python3"
  },
  "language_info": {
   "codemirror_mode": {
    "name": "ipython",
    "version": 3
   },
   "file_extension": ".py",
   "mimetype": "text/x-python",
   "name": "python",
   "nbconvert_exporter": "python",
   "pygments_lexer": "ipython3",
   "version": "3.8.19"
  }
 },
 "nbformat": 4,
 "nbformat_minor": 5
}
