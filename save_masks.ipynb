{
 "cells": [
  {
   "cell_type": "markdown",
   "id": "c76e832b-f8f2-4651-8d13-a34155ac4c88",
   "metadata": {},
   "source": [
    "# Select GPU if needed"
   ]
  },
  {
   "cell_type": "code",
   "execution_count": 1,
   "id": "baf375d6-3e3d-4838-b52d-a2b2938377e4",
   "metadata": {},
   "outputs": [],
   "source": [
    "import os\n",
    "gpu_number = 0\n",
    "os.environ['CUDA_DEVICE_ORDER'] = 'PCI_BUS_ID'\n",
    "os.environ['CUDA_VISIBLE_DEVICES'] = str(gpu_number)"
   ]
  },
  {
   "cell_type": "markdown",
   "id": "d14e2811-2ab5-4c98-a976-624fb338641b",
   "metadata": {},
   "source": [
    "# Import modules"
   ]
  },
  {
   "cell_type": "code",
   "execution_count": 2,
   "id": "37a588bb-be46-44ec-b09d-5e5cece658ef",
   "metadata": {},
   "outputs": [],
   "source": [
    "import torch\n",
    "import torchvision.transforms as transforms\n",
    "from model import ssl_maskrcnn\n",
    "from tools.visualize import save_masks"
   ]
  },
  {
   "cell_type": "markdown",
   "id": "f87b837c-1ba7-4758-adf3-a1862a5b2b53",
   "metadata": {},
   "source": [
    "# Set parameters"
   ]
  },
  {
   "cell_type": "code",
   "execution_count": 3,
   "id": "defc8698-6906-40ae-b14d-6522cbf16298",
   "metadata": {},
   "outputs": [],
   "source": [
    "weights_file = 'outputs/dinov2_s_final_weights.pt'\n",
    "dino_model = 'dinov2_s' # Must be configured according to the model of the weights_file\n",
    "num_classes = 2"
   ]
  },
  {
   "cell_type": "markdown",
   "id": "4ed39d85-2af7-4fd9-bae3-f45710a05add",
   "metadata": {},
   "source": [
    "# Load weights and define model"
   ]
  },
  {
   "cell_type": "code",
   "execution_count": 4,
   "id": "81b753ce-3e5a-49dd-943b-eb3b60b014aa",
   "metadata": {
    "collapsed": true,
    "jupyter": {
     "outputs_hidden": true
    }
   },
   "outputs": [
    {
     "name": "stderr",
     "output_type": "stream",
     "text": [
      "Using cache found in /home/wormhole/.cache/torch/hub/facebookresearch_dinov2_main\n",
      "/home/wormhole/.conda/envs/dfuc/lib/python3.8/site-packages/xformers/ops/fmha/flash.py:211: FutureWarning: `torch.library.impl_abstract` was renamed to `torch.library.register_fake`. Please use that instead; we will remove `torch.library.impl_abstract` in a future version of PyTorch.\n",
      "  @torch.library.impl_abstract(\"xformers_flash::flash_fwd\")\n",
      "/home/wormhole/.conda/envs/dfuc/lib/python3.8/site-packages/xformers/ops/fmha/flash.py:344: FutureWarning: `torch.library.impl_abstract` was renamed to `torch.library.register_fake`. Please use that instead; we will remove `torch.library.impl_abstract` in a future version of PyTorch.\n",
      "  @torch.library.impl_abstract(\"xformers_flash::flash_bwd\")\n",
      "/home/wormhole/.cache/torch/hub/facebookresearch_dinov2_main/dinov2/layers/swiglu_ffn.py:43: UserWarning: xFormers is available (SwiGLU)\n",
      "  warnings.warn(\"xFormers is available (SwiGLU)\")\n",
      "/home/wormhole/.cache/torch/hub/facebookresearch_dinov2_main/dinov2/layers/attention.py:27: UserWarning: xFormers is available (Attention)\n",
      "  warnings.warn(\"xFormers is available (Attention)\")\n",
      "/home/wormhole/.cache/torch/hub/facebookresearch_dinov2_main/dinov2/layers/block.py:33: UserWarning: xFormers is available (Block)\n",
      "  warnings.warn(\"xFormers is available (Block)\")\n"
     ]
    }
   ],
   "source": [
    "model = ssl_maskrcnn(num_classes, dino_model)\n",
    "weights = torch.load(weights_file, weights_only=True)\n",
    "model.load_state_dict(weights)\n",
    "\n",
    "device = torch.device('cuda' if torch.cuda.is_available() else 'cpu')\n",
    "model = model.to(device)"
   ]
  },
  {
   "cell_type": "markdown",
   "id": "6412e699-42a6-481e-a586-1aa9bad8f27d",
   "metadata": {},
   "source": [
    "# Set transform"
   ]
  },
  {
   "cell_type": "code",
   "execution_count": 5,
   "id": "b11f9124-47e4-4371-ab58-d89c75afa9c8",
   "metadata": {},
   "outputs": [],
   "source": [
    "img_transform = transforms.Compose([\n",
    "    transforms.Resize((14*64,14*64)), # multiple of patch_size(=14)\n",
    "    transforms.ToTensor(),\n",
    "    transforms.Normalize(mean=[0.485, 0.456, 0.406], std=[0.229, 0.224, 0.225]),\n",
    "])"
   ]
  },
  {
   "cell_type": "markdown",
   "id": "c5debd19-f238-460a-b7ed-82620ebdf972",
   "metadata": {},
   "source": [
    "# Save pred masks"
   ]
  },
  {
   "cell_type": "code",
   "execution_count": 6,
   "id": "bb071dc1-7879-48b3-9f2f-c23a6f497ac8",
   "metadata": {},
   "outputs": [
    {
     "name": "stdout",
     "output_type": "stream",
     "text": [
      "mask threshold=0.5, score threshold=0.2, alpha=0.6\n"
     ]
    },
    {
     "name": "stderr",
     "output_type": "stream",
     "text": [
      "100%|█████████████████████████████████████████████████████████████████████████████████| 200/200 [00:19<00:00, 10.41it/s]"
     ]
    },
    {
     "name": "stdout",
     "output_type": "stream",
     "text": [
      "Masks are saved in directory pred_masks_val\n"
     ]
    },
    {
     "name": "stderr",
     "output_type": "stream",
     "text": [
      "\n"
     ]
    }
   ],
   "source": [
    "image_dir = 'data/DFUC2024_val_release'\n",
    "out_dir = 'pred_masks_val' # out_dir/pred_masks and out_dir/overlapped path will be created\n",
    "save_masks(model, image_dir, out_dir, img_transform=img_transform)"
   ]
  },
  {
   "cell_type": "code",
   "execution_count": null,
   "id": "f6dabe05-c20b-43c6-8fe4-36c6bfe69bb5",
   "metadata": {},
   "outputs": [],
   "source": []
  }
 ],
 "metadata": {
  "kernelspec": {
   "display_name": "Python 3 (ipykernel)",
   "language": "python",
   "name": "python3"
  },
  "language_info": {
   "codemirror_mode": {
    "name": "ipython",
    "version": 3
   },
   "file_extension": ".py",
   "mimetype": "text/x-python",
   "name": "python",
   "nbconvert_exporter": "python",
   "pygments_lexer": "ipython3",
   "version": "3.8.19"
  }
 },
 "nbformat": 4,
 "nbformat_minor": 5
}
